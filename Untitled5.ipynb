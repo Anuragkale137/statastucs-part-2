{
  "nbformat": 4,
  "nbformat_minor": 0,
  "metadata": {
    "colab": {
      "provenance": []
    },
    "kernelspec": {
      "name": "python3",
      "display_name": "Python 3"
    },
    "language_info": {
      "name": "python"
    }
  },
  "cells": [
    {
      "cell_type": "code",
      "execution_count": 1,
      "metadata": {
        "id": "PyL88PpWLNrD"
      },
      "outputs": [],
      "source": [
        "#question no 1. Explain the properties of the F-distribution.\n",
        "\n",
        "#answer-->\n",
        "\n",
        "#The **F-distribution** is a right-skewed probability distribution used primarily in hypothesis testing, particularly for comparing variances and in ANOVA (Analysis of Variance). It has two parameters:\n",
        "#- \\( d_1 \\) (numerator degrees of freedom)\n",
        "#- \\( d_2 \\) (denominator degrees of freedom).\n",
        "\n",
        "### Key properties:\n",
        "#- **Shape**: Right-skewed, starting at 0 and stretching to infinity.\n",
        "#- **Mean**: \\( \\frac{d_2}{d_2 - 2} \\) (for \\( d_2 > 2 \\)).\n",
        "#- **Variance**: \\( \\frac{2 d_2^2 (d_1 + d_1 - 2)}{d_1 (d_2 - 2)^2 (d_2 - 4)} \\) (for \\( d_2 > 4 \\)).\n",
        "#- **Use**: Commonly used to compare variances or test if group means differ (e.g., in ANOVA).\n",
        "#- **Critical Values**: F-values are found in tables or calculated using software for hypothesis testing.\n",
        "\n",
        "#in essence, it’s used to test hypotheses about variances, where the ratio of sample variances follows an F-distribution."
      ]
    },
    {
      "cell_type": "code",
      "source": [
        "#question no 2. In which types of statistical tests is the F-distribution used, and why is it appropriate for these tests?\n",
        "#qnswer-->\n",
        "#The F-distribution is used in the following types of statistical tests:\n",
        "\n",
        "#F-test for Equality of Variances: To compare the variances of two populations. The ratio of sample variances follows an F-distribution.\n",
        "\n",
        "#ANOVA (Analysis of Variance): To test if there are significant differences among group means. The ratio of between-group variance to within-group variance follows an F-distribution.\n",
        "\n",
        "#Regression Analysis: To test the overall significance of a regression model. The F-statistic compares the explained variance to unexplained variance.\n",
        "\n",
        "#Nested Models: To compare nested models (where one is a subset of the other), examining improvements in model fit versus increased complexity.\n"
      ],
      "metadata": {
        "id": "tuPo6vfALs-b"
      },
      "execution_count": 2,
      "outputs": []
    },
    {
      "cell_type": "code",
      "source": [
        "#question no 3. What are the key assumptions required for conducting an F-test to compare the variances of two populations?\n",
        "#answer-->\n",
        "#The key assumptions for conducting an **F-test** to compare the variances of two populations are:\n",
        "\n",
        "#1. **Independence**: The two samples must be independent of each other.\n",
        "#2. **Normality**: Both populations should be normally distributed. This assumption is critical because the F-test compares the ratio of variances, which is based on the chi-square distribution that assumes normality.\n",
        "#3. **Random Sampling**: The samples should be randomly selected from their respective populations.\n",
        "\n",
        "#These assumptions ensure the validity of the F-test and that the variance ratio follows an F-distribution."
      ],
      "metadata": {
        "id": "81lhnaPbMIg8"
      },
      "execution_count": 3,
      "outputs": []
    },
    {
      "cell_type": "code",
      "source": [
        "#question no 4. What is the purpose of ANOVA, and how does it differ from a t-test?\n",
        "#answer-->\n",
        "#### **Purpose of ANOVA**:\n",
        "#ANOVA (Analysis of Variance) is used to test if there are significant differences between the means of **three or more groups**. It compares the variability **between** groups to the variability **within** groups to determine if any group means are significantly different.\n",
        "\n",
        "### **Difference from a t-test**:\n",
        "#- **t-test**: Compares the means of **two groups** to see if they are significantly different.\n",
        "#- **ANOVA**: Compares the means of **three or more groups**. While a t-test can handle only two groups at a time, ANOVA handles multiple groups simultaneously without increasing the risk of Type I error (which happens when performing multiple t-tests).\n",
        "\n",
        "#In short, ANOVA is an extension of the t-test for comparing more than two groups."
      ],
      "metadata": {
        "id": "n7kP5pSzMZHO"
      },
      "execution_count": 4,
      "outputs": []
    },
    {
      "cell_type": "code",
      "source": [
        "#question no 5. Explain when and why you would use a one-way ANOVA instead of multiple t-tests when comparing more than two groups.\n",
        "#answer-->\n",
        "#You would use a **one-way ANOVA** instead of multiple t-tests when comparing **more than two groups** to avoid the increased risk of **Type I error** (false positives).\n",
        "\n",
        "### Why:\n",
        "#- **Multiple t-tests**: Each additional t-test increases the chance of incorrectly rejecting the null hypothesis (i.e., finding a difference when there is none), leading to a higher overall error rate.\n",
        "#- **One-way ANOVA**: It tests all group means simultaneously in one test, maintaining a **controlled overall Type I error rate** (usually set at 0.05). If ANOVA shows a significant result, you can perform **post-hoc tests** to find out which groups differ.\n",
        "\n",
        "### In short:\n",
        "#ANOVA is more efficient and statistically valid when comparing multiple groups because it controls for the risk of Type I error, which increases with multiple t-tests."
      ],
      "metadata": {
        "id": "vOrlL6O4Mo4Y"
      },
      "execution_count": 5,
      "outputs": []
    },
    {
      "cell_type": "code",
      "source": [
        "#question no 6. Explain how variance is partitioned in ANOVA into between-group variance and within-group variance.How does this partitioning contribute to the calculation of the F-statistic?\n",
        "#answer-->\n",
        "#In **ANOVA**, the total variance is partitioned into two components:\n",
        "\n",
        "#1. **Between-group variance**: This represents the variation due to the differences in the means of the groups. It measures how much the group means differ from the overall mean of all groups.\n",
        "\n",
        "#2. **Within-group variance**: This represents the variation within each group, showing how individual data points deviate from their respective group mean.\n",
        "\n",
        "### Contribution to the F-statistic:\n",
        "#- The **F-statistic** is the ratio of **between-group variance** to **within-group variance**:\n",
        "#  \\[\n",
        "#  F = \\frac{\\text{Between-group variance}}{\\text{Within-group variance}}\n",
        "#  \\]\n",
        "#- A **large F-value** indicates that the between-group variance is much larger than the within-group variance, suggesting significant differences between the group means.\n",
        "#- A **small F-value** suggests that the group means are similar and the observed differences are likely due to random variation.\n",
        "\n",
        "### In short:\n",
        "#Variance in ANOVA is partitioned into **between-group** and **within-group** components, and the F-statistic uses this ratio to test whether the group means are significantly different."
      ],
      "metadata": {
        "id": "hmPRJCkRM9ox"
      },
      "execution_count": null,
      "outputs": []
    },
    {
      "cell_type": "code",
      "source": [
        "#question no 7. Compare the classical (frequentist) approach to ANOVA with the Bayesian approach. What are the key differences in terms of how they handle uncertainty, parameter estimation, and hypothesis testing?\n",
        "#answer-->\n",
        "#"
      ],
      "metadata": {
        "id": "FP99TnMVNRH6"
      },
      "execution_count": null,
      "outputs": []
    }
  ]
}